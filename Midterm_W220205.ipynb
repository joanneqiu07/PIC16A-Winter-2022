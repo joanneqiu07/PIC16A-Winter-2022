{
 "cells": [
  {
   "cell_type": "markdown",
   "metadata": {},
   "source": [
    "# Academic Integrity Statement\n",
    "\n",
    "As a matter of Departmental policy, **we are required to give you a 0** unless you **type your name** after the following statement: \n",
    "\n",
    "> *I certify on my honor that I have neither given nor received any help, or used any non-permitted resources, while completing this evaluation.*\n",
    "\n",
    "Joanne Qiu\n",
    "\n",
    "### Partial Credit\n",
    "\n",
    "Let us give you partial credit! If you're stuck on a problem and just can't get your code to run: \n",
    "\n",
    "First, **breathe**. Then, do any or all of the following: \n",
    "    \n",
    "1. Write down everything relevant that you know about the problem, as comments where your code would go. \n",
    "2. If you have non-functioning code that demonstrates some correct ideas, indicate that and keep it (commented out). \n",
    "3. Write down pseudocode (written instructions) outlining your solution approach. \n",
    "\n",
    "In brief, even if you can't quite get your code to work, you can still **show us what you know.**\n",
    "\n",
    "### Rules\n",
    "\n",
    "1. All type checking should use `isinstance` rather code of the form `type(x)==list`. If you don't remember how this works, refer to class notes or give it a quick google.\n",
    "\n",
    "2. Whenever reasonably possible, for full credit you should use `list comprehensions` rather than modifying / creating items of a list/array one item at a time. \n",
    "\n",
    "3. Operations like `x + y` or `2*x` should not modify the original `TwoDArray` instance `x`. This should not be a problem if you're using list comprehensions in those methods. (This rule will make sense after you read the rest of the problem.)\n",
    "\n",
    "4. You can significantly shorten your code by having your methods call other methods. Therefore, in order to receive full credit, you should do this when reasonably possible. In particular, in my solution, the add magic method calls itself in several places. (This is allowable because there are a bunch of if statements.) If you are confused by this last idea, it might help to look at the example of a function calling itself at the bottom of the exam.\n",
    "\n",
    "5. All lines of code should be 80 or fewer characters. You should also check that your code is visible when you print your pdf. \n",
    "\n",
    "6. Solutions which do not, for example, use list comprehensions or have methods call other methods when appropriate, will receive partial credit. If you are struggling, a perfectly valid strategy is to first write a down a \"less good\" solution that works, do the rest of the exam, and then try to make your \"less good\" solution into a better solution."
   ]
  },
  {
   "cell_type": "markdown",
   "metadata": {},
   "source": [
    "\n",
    "# Problem 1\n",
    "\n",
    "In this problem, we will implement a `TwoDArray` class that is meant to mimic (some of) the functionality of a two-dimensional numpy array. You should not use `numpy` at any point. If you solutions uses `numpy`, you receive no credit for the part of the problem where `numpy` is used.\n",
    "\n",
    "__Before we proceed:__ Let's shortly recap two-dimensional arrays and the numpy implementation of them. We can think of two-dimensional arrays as tables of numbers: we refer to them as being two-dimensional because each number in the table has both a row and column index. They are very useful as it is often natural to store data in tabular form. Furthermore matrices, which play a very important role in many areas of Math, Computer Science and Engineering, are also represented using them! Here is an example in numpy."
   ]
  },
  {
   "cell_type": "code",
   "execution_count": 1,
   "metadata": {},
   "outputs": [
    {
     "name": "stdout",
     "output_type": "stream",
     "text": [
      "This is my_2d_array:\n",
      "[[1 2]\n",
      " [3 4]\n",
      " [5 6]]\n",
      "This array has shape (3, 2) as there are 3 rows and 2 columns.\n",
      "The entry of the array with row index 1 and column index 1 has value 4\n"
     ]
    }
   ],
   "source": [
    "#Run this cell\n",
    "import numpy as np\n",
    "\n",
    "my_2d_array = np.array([[1,2],[3,4],[5,6]])\n",
    "print(\"This is my_2d_array:\")\n",
    "print(my_2d_array)\n",
    "print(\"This array has shape \" + str(my_2d_array.shape) + \" as there are \" + str(my_2d_array.shape[0]) +  \" rows and \" + str(my_2d_array.shape[1]) + \" columns.\")\n",
    "print(\"The entry of the array with row index \" + str(1) + \" and column index \" + str(1) + \" has value \" + str(my_2d_array[1,1]))"
   ]
  },
  {
   "cell_type": "markdown",
   "metadata": {},
   "source": [
    "Two-dimensional arrays as implemented in numpy support a number of operations including scalar multiplication and array addition."
   ]
  },
  {
   "cell_type": "code",
   "execution_count": 2,
   "metadata": {},
   "outputs": [
    {
     "name": "stdout",
     "output_type": "stream",
     "text": [
      "If you multiply a two-dimensional array by a number (or scalar) then each entry is multiplied by that number:\n",
      "[[ 2  4]\n",
      " [ 6  8]\n",
      " [10 12]]\n",
      "If you add two-dimensional arrays their entries are summed:\n",
      "[[2. 3.]\n",
      " [4. 5.]\n",
      " [6. 7.]]\n"
     ]
    }
   ],
   "source": [
    "#Run this cell\n",
    "print(\"If you multiply a two-dimensional array by a number (or scalar) then each entry is multiplied by that number:\")\n",
    "print(2*my_2d_array)\n",
    "\n",
    "print(\"If you add two-dimensional arrays their entries are summed:\")\n",
    "print(my_2d_array + np.ones((3,2)))"
   ]
  },
  {
   "cell_type": "markdown",
   "metadata": {},
   "source": [
    "Your task in this problem will be to implement a class, using the template provided, which supports the creation of two-dimensional arrays, scalar multiplication, array addition and iteration. (In the above example, the first array is an array of ints and the second is an array of floats, which is why there is a decimal point there. You don't need to worry about this for this problem.)"
   ]
  },
  {
   "cell_type": "markdown",
   "metadata": {},
   "source": [
    "\n",
    "## Part A: Give your class an `__init__` method. - 10 points\n",
    "\n",
    "I have already written part of this method for you. What you should do is make sure that the variable `array` is a valid input. This means you should a) Make sure that `array` is a list of lists. b) Make sure that each of the inner lists has the same length. You do not need to check for anything else.\n",
    "\n",
    "If these conditions are not met you should raise the appropriate error(s). By this I mean it is up for you to decide if you should raise a `TypeError`, `KeyError`, `IndexError`, `ValueError`, `ZeroDivisionError`, etc. When raising the error, you should also give an informative error message.\n",
    "\n",
    "With actual numpy arrays, all numbers are required to be the same datatype. You don't have to worry about that here. You can also assume that all numbers are `int`s or `float`s so you only have to worry about checking that the variable `array` is a list of lists.\n",
    "\n",
    "# Part B: Enable Scalar Multiplication - 10 points\n",
    "\n",
    "Make scalar multiplication work the same way as with numpy arrays. For example, if `x=TwoDArray([[1,2][3,4]])`, then `2*x` should be `TwoDArray([[2,4][6,8]])`. For full credit, you solution should be four lines or fewer (not including `def`). You do not need to have comment or docstrings for this part. You also do not have to do any type checking for this part."
   ]
  },
  {
   "cell_type": "markdown",
   "metadata": {},
   "source": [
    "# Part C: Enable Addition - 30 points\n",
    "You should write a method so that if `x` and `y` are two `TwoDArray`s, the code `x+y` works correctly. \n",
    "\n",
    "a) Your code should check that `x` and `y` are `TwoDArray`s and if not, raise an appropriate error with a short error message.\n",
    "\n",
    "b) If `x` and `y` have the same shape, your method should add them element-wise and return a new `TwoDArray`, just like numpy operations. \n",
    "\n",
    "c) If `x` and `y` have different shapes, your method should try to apply the **some** of the same rules of broadcasting as with numpy arrays. See https://numpy.org/doc/stable/user/basics.broadcasting.html or https://jakevdp.github.io/PythonDataScienceHandbook/02.05-computation-on-arrays-broadcasting.html#Rules-of-Broadcasting for review. In particular, implement broadcasting such that for example, `TwoDArray`s with shape (1, 3) or (4, 1) can be added to a `TwoDArray` with shape (4, 3).\n",
    "\n",
    "Your code does __not__ need to be able to handle the following broadcasting cases such as:\n",
    "- shape (3,) to (4, 3). We are only using two-dimensional arrays in `TwoDArray`.\n",
    "- shape (1, 1) to (4, 3). This works in numpy, but you do not need to consider it for this exam.\n",
    "- adding arrays with shapes (1, 3) and (4, 1). This works in numpy, but you do not need to consider it for this exam.\n",
    "\n",
    "In order to apply the rules of broadcasting, my solution uses a lot of `if`/`elif`/`else` statements. My function also calls itself where appropriate. This allows me to avoid copying/pasting code. For full credit, your solution should also do this since copy/pasting code is considered bad style. However, if you do copy/paste code and make small edits, you will receive partial credit.\n",
    "\n",
    "Add a short docstring and comment as appropriate.\n",
    "\n",
    "Note: This will likely be the most time consuming portion of the exam. If your solution works when the arrays are the same size, but doesn't implement broadcasting you will receive partial credit. If you are struggling on this part, a good strategey is a) first do this problem without broadcasting b) then do the rest of the exam c) then come back to this part and implement broadcasting.\n"
   ]
  },
  {
   "cell_type": "markdown",
   "metadata": {},
   "source": [
    "\n",
    "\n",
    "# Part D: Enable Subtraction - 10 points\n",
    "\n",
    "Write a method so that subtraction works in a way analogous to addition. You do not have to write comments for this line. However, for full credit you solution should only be one line (not including `def`). Hint: Use your other functions.\n",
    "\n",
    "# Part E: Enable Iteration - 20 points\n",
    "\n",
    "Make your `TwoDArray`s iterable. Your iterator should go through the array one number at a time. It should first go across the top row, then across the next row, then across the next row, etc. For example if `x=TwoDArray([[1,2],[3,4]])`, then \n",
    "```python\n",
    "for t in x:\n",
    "   print(t)\n",
    "```\n",
    "should print \n",
    "```python\n",
    "1\n",
    "2\n",
    "3\n",
    "4\n",
    "```\n",
    "You can not use generator for this problem."
   ]
  },
  {
   "cell_type": "code",
   "execution_count": 3,
   "metadata": {},
   "outputs": [],
   "source": [
    "class TwoDArray(list):\n",
    "    \n",
    "    #part A\n",
    "    def __init__(self, array):\n",
    "        \"\"\"\n",
    "        Initialize the instance variable 'array' and check if 'array' is a list of lists of the same length. \n",
    "        Args:\n",
    "            array: a list of lists.\n",
    "        Returns:\n",
    "            None\n",
    "        \"\"\"\n",
    "        \n",
    "        ##########################\n",
    "        #ADD INPUT CHECKING HERE\n",
    "        if not isinstance(array, list):\n",
    "            raise TypeError(\"The parameter for a TwoDArray should be a list.\")\n",
    "        elif not all(isinstance(j, list) for j in array):\n",
    "            raise TypeError(\"All elements of the list should be lists.\")\n",
    "        elif any(len(i) != len(array[0]) for i in array):\n",
    "            raise ValueError(\"All the inner lists must be the same length.\")\n",
    "        ############################\n",
    "        \n",
    "        #this line is written for you\n",
    "        self.array=array\n",
    "        \n",
    "    #I am giving you these for free to save you time\n",
    "    def __str__(self):\n",
    "        return '[' + \"\\n \".join([str(arr) for arr in self.array]) + ']'\n",
    "    \n",
    "    def shape(self):\n",
    "        return (len(self.array), len(self.array[0]))\n",
    "\n",
    "    \n",
    "    #part B\n",
    "    def __rmul__(self, c): \n",
    "        m, n = self.shape()\n",
    "        \n",
    "        #################################\n",
    "        #     Your code here\n",
    "        return TwoDArray([[c * self.array[i][j] for j in range(n)] for i in range(m)])\n",
    "        #################################\n",
    "    \n",
    "    #Part C\n",
    "    def __add__(self, other):\n",
    "        \"\"\"\n",
    "        Check if the two objects are instances of TwoDArray.\n",
    "        If the two TwoDArrays have the same shape, add them element-wise.\n",
    "        If the two TwoDArrays have different shapes, broadcast the one that has 1 row or 1 column.\n",
    "        Args: \n",
    "            other: a TwoDArray.\n",
    "        Returns:\n",
    "            a new TwoDArray that contains the element-wise sum of the two TwoDArrays.\n",
    "        \"\"\"\n",
    "            \n",
    "        ##########################\n",
    "        #ADD INPUT CHECKING HERE\n",
    "        if not (isinstance(self, TwoDArray) and isinstance(other, TwoDArray)):\n",
    "            raise TypeError(\"The two objects need to be instances of TwoDArray.\")\n",
    "        ############################\n",
    "\n",
    "        ############ DO NOT CHANGE ############\n",
    "        #dummy variables for shorter lines\n",
    "        sa, oa = self.array, other.array\n",
    "        #array dimesnions\n",
    "        m, n = self.shape()\n",
    "        m1, n1 = other.shape()\n",
    "        ########################################\n",
    "                                                                                            # 80 characters\n",
    "\n",
    "        if m==m1 and n==n1: # if the shapes are the same, add each pair of the elements together\n",
    "            return TwoDArray([[sa[i][j]+oa[i][j] for j in range(n)] for i in range(m)]) \n",
    "        elif m==m1 and n==1: # if self.array has one column, broadcast it and use other.array's number of columns\n",
    "            return TwoDArray([[sa[i][0]+oa[i][j] for j in range(n1)] for i in range(m)]) \n",
    "        elif m==1 and n==n1: # if self.array has one row, broadcast it and use other.array's number of rows\n",
    "            return TwoDArray([[sa[0][j]+oa[i][j] for j in range(n)] for i in range(m1)])\n",
    "        elif (m==m1 and n1==1) or (m1==1 and n==n1): # change the order of the instances to broadcast other.array\n",
    "            return(other.__add__(self))\n",
    "        else: # if the shapes don't match any of the above situations, raise ValueError\n",
    "            raise ValueError(\"Operands could not be broadcast together.\")\n",
    "    \n",
    "    #part D\n",
    "    def __sub__(self, other):\n",
    "        return(self.__add__(-1 * other))\n",
    "    \n",
    "    #Part E\n",
    "    #I have written this method for you to save time\n",
    "    def __iter__(self):\n",
    "        return TwoDArrayIterator(self)\n",
    "    \n",
    "#more part E\n",
    "class TwoDArrayIterator:\n",
    "    \n",
    "    #### DO NOT CHANGE ##############\n",
    "    def __init__(self, TDA):\n",
    "        self.array = TDA.array\n",
    "        self.i, self.j = 0, 0 #tracker for row index and column index\n",
    "        self.m, self.n = TDA.shape()\n",
    "    ################################\n",
    "      \n",
    "    def __next__(self):\n",
    "        \n",
    "        if self.i < self.m: \n",
    "            if self.j < self.n: # if self.j is less than n, return each element in the ith row\n",
    "                element = self.array[self.i][self.j]\n",
    "                self.j += 1\n",
    "                return element\n",
    "            else: # if self.j is equal to n, move to the next row\n",
    "                self.i += 1\n",
    "                self.j = 0\n",
    "                return(self.__next__())\n",
    "        else: # if self.i is equal to m, raise StopIteration\n",
    "            raise StopIteration\n",
    "\n",
    "        "
   ]
  },
  {
   "cell_type": "markdown",
   "metadata": {},
   "source": [
    "# Test for part A"
   ]
  },
  {
   "cell_type": "code",
   "execution_count": 4,
   "metadata": {},
   "outputs": [
    {
     "name": "stdout",
     "output_type": "stream",
     "text": [
      "[[1]]\n",
      "[[1, 1]\n",
      " [2, 2]]\n"
     ]
    }
   ],
   "source": [
    "#This should run and not raise an error\n",
    "x=TwoDArray([[1]])\n",
    "y=TwoDArray([[1,1],[2,2]])\n",
    "print(x)\n",
    "print(y)"
   ]
  },
  {
   "cell_type": "code",
   "execution_count": 5,
   "metadata": {},
   "outputs": [
    {
     "ename": "TypeError",
     "evalue": "All elements of the list should be lists.",
     "output_type": "error",
     "traceback": [
      "\u001b[0;31m---------------------------------------------------------------------------\u001b[0m",
      "\u001b[0;31mTypeError\u001b[0m                                 Traceback (most recent call last)",
      "\u001b[0;32m/var/folders/5w/xp5z9h2n0nb3qkgfbvf7cxrm0000gn/T/ipykernel_48585/2866033377.py\u001b[0m in \u001b[0;36m<module>\u001b[0;34m\u001b[0m\n\u001b[1;32m      1\u001b[0m \u001b[0;31m#this should raise an error\u001b[0m\u001b[0;34m\u001b[0m\u001b[0;34m\u001b[0m\u001b[0m\n\u001b[0;32m----> 2\u001b[0;31m \u001b[0mx\u001b[0m\u001b[0;34m=\u001b[0m\u001b[0mTwoDArray\u001b[0m\u001b[0;34m(\u001b[0m\u001b[0;34m[\u001b[0m\u001b[0;34m(\u001b[0m\u001b[0;36m1\u001b[0m\u001b[0;34m,\u001b[0m\u001b[0;36m2\u001b[0m\u001b[0;34m)\u001b[0m\u001b[0;34m]\u001b[0m\u001b[0;34m)\u001b[0m\u001b[0;34m\u001b[0m\u001b[0;34m\u001b[0m\u001b[0m\n\u001b[0m",
      "\u001b[0;32m/var/folders/5w/xp5z9h2n0nb3qkgfbvf7cxrm0000gn/T/ipykernel_48585/2400746693.py\u001b[0m in \u001b[0;36m__init__\u001b[0;34m(self, array)\u001b[0m\n\u001b[1;32m     16\u001b[0m             \u001b[0;32mraise\u001b[0m \u001b[0mTypeError\u001b[0m\u001b[0;34m(\u001b[0m\u001b[0;34m\"The parameter for a TwoDArray should be a list.\"\u001b[0m\u001b[0;34m)\u001b[0m\u001b[0;34m\u001b[0m\u001b[0;34m\u001b[0m\u001b[0m\n\u001b[1;32m     17\u001b[0m         \u001b[0;32melif\u001b[0m \u001b[0;32mnot\u001b[0m \u001b[0mall\u001b[0m\u001b[0;34m(\u001b[0m\u001b[0misinstance\u001b[0m\u001b[0;34m(\u001b[0m\u001b[0mj\u001b[0m\u001b[0;34m,\u001b[0m \u001b[0mlist\u001b[0m\u001b[0;34m)\u001b[0m \u001b[0;32mfor\u001b[0m \u001b[0mj\u001b[0m \u001b[0;32min\u001b[0m \u001b[0marray\u001b[0m\u001b[0;34m)\u001b[0m\u001b[0;34m:\u001b[0m\u001b[0;34m\u001b[0m\u001b[0;34m\u001b[0m\u001b[0m\n\u001b[0;32m---> 18\u001b[0;31m             \u001b[0;32mraise\u001b[0m \u001b[0mTypeError\u001b[0m\u001b[0;34m(\u001b[0m\u001b[0;34m\"All elements of the list should be lists.\"\u001b[0m\u001b[0;34m)\u001b[0m\u001b[0;34m\u001b[0m\u001b[0;34m\u001b[0m\u001b[0m\n\u001b[0m\u001b[1;32m     19\u001b[0m         \u001b[0;32melif\u001b[0m \u001b[0many\u001b[0m\u001b[0;34m(\u001b[0m\u001b[0mlen\u001b[0m\u001b[0;34m(\u001b[0m\u001b[0mi\u001b[0m\u001b[0;34m)\u001b[0m \u001b[0;34m!=\u001b[0m \u001b[0mlen\u001b[0m\u001b[0;34m(\u001b[0m\u001b[0marray\u001b[0m\u001b[0;34m[\u001b[0m\u001b[0;36m0\u001b[0m\u001b[0;34m]\u001b[0m\u001b[0;34m)\u001b[0m \u001b[0;32mfor\u001b[0m \u001b[0mi\u001b[0m \u001b[0;32min\u001b[0m \u001b[0marray\u001b[0m\u001b[0;34m)\u001b[0m\u001b[0;34m:\u001b[0m\u001b[0;34m\u001b[0m\u001b[0;34m\u001b[0m\u001b[0m\n\u001b[1;32m     20\u001b[0m             \u001b[0;32mraise\u001b[0m \u001b[0mValueError\u001b[0m\u001b[0;34m(\u001b[0m\u001b[0;34m\"All the inner lists must be the same length.\"\u001b[0m\u001b[0;34m)\u001b[0m\u001b[0;34m\u001b[0m\u001b[0;34m\u001b[0m\u001b[0m\n",
      "\u001b[0;31mTypeError\u001b[0m: All elements of the list should be lists."
     ]
    }
   ],
   "source": [
    "#this should raise an error\n",
    "x=TwoDArray([(1,2)])"
   ]
  },
  {
   "cell_type": "code",
   "execution_count": 6,
   "metadata": {},
   "outputs": [
    {
     "ename": "TypeError",
     "evalue": "All elements of the list should be lists.",
     "output_type": "error",
     "traceback": [
      "\u001b[0;31m---------------------------------------------------------------------------\u001b[0m",
      "\u001b[0;31mTypeError\u001b[0m                                 Traceback (most recent call last)",
      "\u001b[0;32m/var/folders/5w/xp5z9h2n0nb3qkgfbvf7cxrm0000gn/T/ipykernel_48585/2756013413.py\u001b[0m in \u001b[0;36m<module>\u001b[0;34m\u001b[0m\n\u001b[1;32m      1\u001b[0m \u001b[0;31m#this should also raise an error\u001b[0m\u001b[0;34m\u001b[0m\u001b[0;34m\u001b[0m\u001b[0m\n\u001b[0;32m----> 2\u001b[0;31m \u001b[0mx\u001b[0m\u001b[0;34m=\u001b[0m\u001b[0mTwoDArray\u001b[0m\u001b[0;34m(\u001b[0m\u001b[0;34m[\u001b[0m\u001b[0;36m1\u001b[0m\u001b[0;34m,\u001b[0m\u001b[0;36m2\u001b[0m\u001b[0;34m,\u001b[0m\u001b[0;36m3\u001b[0m\u001b[0;34m,\u001b[0m\u001b[0;36m4\u001b[0m\u001b[0;34m]\u001b[0m\u001b[0;34m)\u001b[0m\u001b[0;34m\u001b[0m\u001b[0;34m\u001b[0m\u001b[0m\n\u001b[0m",
      "\u001b[0;32m/var/folders/5w/xp5z9h2n0nb3qkgfbvf7cxrm0000gn/T/ipykernel_48585/2400746693.py\u001b[0m in \u001b[0;36m__init__\u001b[0;34m(self, array)\u001b[0m\n\u001b[1;32m     16\u001b[0m             \u001b[0;32mraise\u001b[0m \u001b[0mTypeError\u001b[0m\u001b[0;34m(\u001b[0m\u001b[0;34m\"The parameter for a TwoDArray should be a list.\"\u001b[0m\u001b[0;34m)\u001b[0m\u001b[0;34m\u001b[0m\u001b[0;34m\u001b[0m\u001b[0m\n\u001b[1;32m     17\u001b[0m         \u001b[0;32melif\u001b[0m \u001b[0;32mnot\u001b[0m \u001b[0mall\u001b[0m\u001b[0;34m(\u001b[0m\u001b[0misinstance\u001b[0m\u001b[0;34m(\u001b[0m\u001b[0mj\u001b[0m\u001b[0;34m,\u001b[0m \u001b[0mlist\u001b[0m\u001b[0;34m)\u001b[0m \u001b[0;32mfor\u001b[0m \u001b[0mj\u001b[0m \u001b[0;32min\u001b[0m \u001b[0marray\u001b[0m\u001b[0;34m)\u001b[0m\u001b[0;34m:\u001b[0m\u001b[0;34m\u001b[0m\u001b[0;34m\u001b[0m\u001b[0m\n\u001b[0;32m---> 18\u001b[0;31m             \u001b[0;32mraise\u001b[0m \u001b[0mTypeError\u001b[0m\u001b[0;34m(\u001b[0m\u001b[0;34m\"All elements of the list should be lists.\"\u001b[0m\u001b[0;34m)\u001b[0m\u001b[0;34m\u001b[0m\u001b[0;34m\u001b[0m\u001b[0m\n\u001b[0m\u001b[1;32m     19\u001b[0m         \u001b[0;32melif\u001b[0m \u001b[0many\u001b[0m\u001b[0;34m(\u001b[0m\u001b[0mlen\u001b[0m\u001b[0;34m(\u001b[0m\u001b[0mi\u001b[0m\u001b[0;34m)\u001b[0m \u001b[0;34m!=\u001b[0m \u001b[0mlen\u001b[0m\u001b[0;34m(\u001b[0m\u001b[0marray\u001b[0m\u001b[0;34m[\u001b[0m\u001b[0;36m0\u001b[0m\u001b[0;34m]\u001b[0m\u001b[0;34m)\u001b[0m \u001b[0;32mfor\u001b[0m \u001b[0mi\u001b[0m \u001b[0;32min\u001b[0m \u001b[0marray\u001b[0m\u001b[0;34m)\u001b[0m\u001b[0;34m:\u001b[0m\u001b[0;34m\u001b[0m\u001b[0;34m\u001b[0m\u001b[0m\n\u001b[1;32m     20\u001b[0m             \u001b[0;32mraise\u001b[0m \u001b[0mValueError\u001b[0m\u001b[0;34m(\u001b[0m\u001b[0;34m\"All the inner lists must be the same length.\"\u001b[0m\u001b[0;34m)\u001b[0m\u001b[0;34m\u001b[0m\u001b[0;34m\u001b[0m\u001b[0m\n",
      "\u001b[0;31mTypeError\u001b[0m: All elements of the list should be lists."
     ]
    }
   ],
   "source": [
    "#this should also raise an error\n",
    "x=TwoDArray([1,2,3,4])"
   ]
  },
  {
   "cell_type": "markdown",
   "metadata": {},
   "source": [
    "# Test for Part B"
   ]
  },
  {
   "cell_type": "code",
   "execution_count": 7,
   "metadata": {},
   "outputs": [
    {
     "name": "stdout",
     "output_type": "stream",
     "text": [
      "[[2, 4]\n",
      " [6, 8]]\n"
     ]
    }
   ],
   "source": [
    "#this code should run error free\n",
    "x=TwoDArray([[1,2],[3,4]])\n",
    "print(2*x)"
   ]
  },
  {
   "cell_type": "markdown",
   "metadata": {},
   "source": [
    "# Tests for Part C"
   ]
  },
  {
   "cell_type": "code",
   "execution_count": 8,
   "metadata": {},
   "outputs": [
    {
     "name": "stdout",
     "output_type": "stream",
     "text": [
      "[[0, 0]\n",
      " [0, 0]]\n"
     ]
    }
   ],
   "source": [
    "#this code should run error free \n",
    "#(This should run even if you haven't implemented broadcasting)\n",
    "x=TwoDArray([[0,0],[0,0]])\n",
    "y=TwoDArray([[0,0],[0,0]])\n",
    "z=TwoDArray([[1],[2]])\n",
    "w=TwoDArray([[1,2]])\n",
    "print(x+y)"
   ]
  },
  {
   "cell_type": "code",
   "execution_count": 9,
   "metadata": {},
   "outputs": [
    {
     "name": "stdout",
     "output_type": "stream",
     "text": [
      "[[1, 1]\n",
      " [2, 2]]\n",
      "[[1, 1]\n",
      " [2, 2]]\n",
      "[[1, 2]\n",
      " [1, 2]]\n",
      "[[1, 2]\n",
      " [1, 2]]\n"
     ]
    }
   ],
   "source": [
    "#this code should run error free once you've implemented broadcasting\n",
    "print(x+z)\n",
    "print(z+x)\n",
    "print(x+w)\n",
    "print(w+x)"
   ]
  },
  {
   "cell_type": "code",
   "execution_count": 10,
   "metadata": {},
   "outputs": [
    {
     "ename": "TypeError",
     "evalue": "The two objects need to be instances of TwoDArray.",
     "output_type": "error",
     "traceback": [
      "\u001b[0;31m---------------------------------------------------------------------------\u001b[0m",
      "\u001b[0;31mTypeError\u001b[0m                                 Traceback (most recent call last)",
      "\u001b[0;32m/var/folders/5w/xp5z9h2n0nb3qkgfbvf7cxrm0000gn/T/ipykernel_48585/1409732978.py\u001b[0m in \u001b[0;36m<module>\u001b[0;34m\u001b[0m\n\u001b[1;32m      1\u001b[0m \u001b[0;31m# this should raise an appropriate error\u001b[0m\u001b[0;34m\u001b[0m\u001b[0;34m\u001b[0m\u001b[0m\n\u001b[0;32m----> 2\u001b[0;31m \u001b[0mprint\u001b[0m\u001b[0;34m(\u001b[0m\u001b[0mx\u001b[0m \u001b[0;34m+\u001b[0m \u001b[0;34m[\u001b[0m\u001b[0;34m[\u001b[0m\u001b[0;36m1\u001b[0m\u001b[0;34m,\u001b[0m\u001b[0;36m1\u001b[0m\u001b[0;34m]\u001b[0m\u001b[0;34m,\u001b[0m\u001b[0;34m[\u001b[0m\u001b[0;36m2\u001b[0m\u001b[0;34m,\u001b[0m\u001b[0;36m2\u001b[0m\u001b[0;34m]\u001b[0m\u001b[0;34m]\u001b[0m\u001b[0;34m)\u001b[0m\u001b[0;34m\u001b[0m\u001b[0;34m\u001b[0m\u001b[0m\n\u001b[0m",
      "\u001b[0;32m/var/folders/5w/xp5z9h2n0nb3qkgfbvf7cxrm0000gn/T/ipykernel_48585/2400746693.py\u001b[0m in \u001b[0;36m__add__\u001b[0;34m(self, other)\u001b[0m\n\u001b[1;32m     56\u001b[0m         \u001b[0;31m#ADD INPUT CHECKING HERE\u001b[0m\u001b[0;34m\u001b[0m\u001b[0;34m\u001b[0m\u001b[0m\n\u001b[1;32m     57\u001b[0m         \u001b[0;32mif\u001b[0m \u001b[0;32mnot\u001b[0m \u001b[0;34m(\u001b[0m\u001b[0misinstance\u001b[0m\u001b[0;34m(\u001b[0m\u001b[0mself\u001b[0m\u001b[0;34m,\u001b[0m \u001b[0mTwoDArray\u001b[0m\u001b[0;34m)\u001b[0m \u001b[0;32mand\u001b[0m \u001b[0misinstance\u001b[0m\u001b[0;34m(\u001b[0m\u001b[0mother\u001b[0m\u001b[0;34m,\u001b[0m \u001b[0mTwoDArray\u001b[0m\u001b[0;34m)\u001b[0m\u001b[0;34m)\u001b[0m\u001b[0;34m:\u001b[0m\u001b[0;34m\u001b[0m\u001b[0;34m\u001b[0m\u001b[0m\n\u001b[0;32m---> 58\u001b[0;31m             \u001b[0;32mraise\u001b[0m \u001b[0mTypeError\u001b[0m\u001b[0;34m(\u001b[0m\u001b[0;34m\"The two objects need to be instances of TwoDArray.\"\u001b[0m\u001b[0;34m)\u001b[0m\u001b[0;34m\u001b[0m\u001b[0;34m\u001b[0m\u001b[0m\n\u001b[0m\u001b[1;32m     59\u001b[0m         \u001b[0;31m############################\u001b[0m\u001b[0;34m\u001b[0m\u001b[0;34m\u001b[0m\u001b[0m\n\u001b[1;32m     60\u001b[0m \u001b[0;34m\u001b[0m\u001b[0m\n",
      "\u001b[0;31mTypeError\u001b[0m: The two objects need to be instances of TwoDArray."
     ]
    }
   ],
   "source": [
    "# this should raise an appropriate error\n",
    "print(x + [[1,1],[2,2]])"
   ]
  },
  {
   "cell_type": "code",
   "execution_count": 11,
   "metadata": {},
   "outputs": [
    {
     "ename": "ValueError",
     "evalue": "Operands could not be broadcast together.",
     "output_type": "error",
     "traceback": [
      "\u001b[0;31m---------------------------------------------------------------------------\u001b[0m",
      "\u001b[0;31mValueError\u001b[0m                                Traceback (most recent call last)",
      "\u001b[0;32m/var/folders/5w/xp5z9h2n0nb3qkgfbvf7cxrm0000gn/T/ipykernel_48585/4240330459.py\u001b[0m in \u001b[0;36m<module>\u001b[0;34m\u001b[0m\n\u001b[1;32m      1\u001b[0m \u001b[0;31m#in this cell, show an example of where the arrays can't be broadcasting\u001b[0m\u001b[0;34m\u001b[0m\u001b[0;34m\u001b[0m\u001b[0m\n\u001b[1;32m      2\u001b[0m \u001b[0;31m#your solution should display an appropriate error messsage\u001b[0m\u001b[0;34m\u001b[0m\u001b[0;34m\u001b[0m\u001b[0m\n\u001b[0;32m----> 3\u001b[0;31m \u001b[0mprint\u001b[0m\u001b[0;34m(\u001b[0m\u001b[0mz\u001b[0m\u001b[0;34m+\u001b[0m\u001b[0mw\u001b[0m\u001b[0;34m)\u001b[0m\u001b[0;34m\u001b[0m\u001b[0;34m\u001b[0m\u001b[0m\n\u001b[0m",
      "\u001b[0;32m/var/folders/5w/xp5z9h2n0nb3qkgfbvf7cxrm0000gn/T/ipykernel_48585/2400746693.py\u001b[0m in \u001b[0;36m__add__\u001b[0;34m(self, other)\u001b[0m\n\u001b[1;32m     77\u001b[0m             \u001b[0;32mreturn\u001b[0m\u001b[0;34m(\u001b[0m\u001b[0mother\u001b[0m\u001b[0;34m.\u001b[0m\u001b[0m__add__\u001b[0m\u001b[0;34m(\u001b[0m\u001b[0mself\u001b[0m\u001b[0;34m)\u001b[0m\u001b[0;34m)\u001b[0m\u001b[0;34m\u001b[0m\u001b[0;34m\u001b[0m\u001b[0m\n\u001b[1;32m     78\u001b[0m         \u001b[0;32melse\u001b[0m\u001b[0;34m:\u001b[0m \u001b[0;31m# if the shapes don't match any of the above situations, raise ValueError\u001b[0m\u001b[0;34m\u001b[0m\u001b[0;34m\u001b[0m\u001b[0m\n\u001b[0;32m---> 79\u001b[0;31m             \u001b[0;32mraise\u001b[0m \u001b[0mValueError\u001b[0m\u001b[0;34m(\u001b[0m\u001b[0;34m\"Operands could not be broadcast together.\"\u001b[0m\u001b[0;34m)\u001b[0m\u001b[0;34m\u001b[0m\u001b[0;34m\u001b[0m\u001b[0m\n\u001b[0m\u001b[1;32m     80\u001b[0m \u001b[0;34m\u001b[0m\u001b[0m\n\u001b[1;32m     81\u001b[0m     \u001b[0;31m#part D\u001b[0m\u001b[0;34m\u001b[0m\u001b[0;34m\u001b[0m\u001b[0m\n",
      "\u001b[0;31mValueError\u001b[0m: Operands could not be broadcast together."
     ]
    }
   ],
   "source": [
    "#in this cell, show an example of where the arrays can't be broadcasting\n",
    "#your solution should display an appropriate error messsage\n",
    "print(z+w)"
   ]
  },
  {
   "cell_type": "markdown",
   "metadata": {},
   "source": [
    "# Tests for Part D"
   ]
  },
  {
   "cell_type": "code",
   "execution_count": 12,
   "metadata": {},
   "outputs": [
    {
     "name": "stdout",
     "output_type": "stream",
     "text": [
      "[[0, 0]\n",
      " [0, 0]]\n"
     ]
    }
   ],
   "source": [
    "#this code should run error free\n",
    "x=TwoDArray([[0,0],[0,0]])\n",
    "y=TwoDArray([[0,0],[0,0]])\n",
    "z=TwoDArray([[1],[2]])\n",
    "w=TwoDArray([[1,2]])\n",
    "print(x-y)"
   ]
  },
  {
   "cell_type": "code",
   "execution_count": 13,
   "metadata": {},
   "outputs": [
    {
     "name": "stdout",
     "output_type": "stream",
     "text": [
      "[[-1, -1]\n",
      " [-2, -2]]\n",
      "[[-1, -2]\n",
      " [-1, -2]]\n",
      "[[1, 1]\n",
      " [2, 2]]\n",
      "[[1, 2]\n",
      " [1, 2]]\n"
     ]
    }
   ],
   "source": [
    "#this code should run error free\n",
    "print(x-z)\n",
    "print(x-w)\n",
    "print(z-x)\n",
    "print(w-x)"
   ]
  },
  {
   "cell_type": "markdown",
   "metadata": {},
   "source": [
    "# Test for Part E "
   ]
  },
  {
   "cell_type": "code",
   "execution_count": 14,
   "metadata": {},
   "outputs": [
    {
     "name": "stdout",
     "output_type": "stream",
     "text": [
      "1\n",
      "2\n",
      "3\n",
      "4\n"
     ]
    }
   ],
   "source": [
    "x=TwoDArray([[1,2],[3,4]])\n",
    "for t in x:\n",
    "    print(t)"
   ]
  },
  {
   "cell_type": "markdown",
   "metadata": {},
   "source": [
    "# Problem 2 - 10 points\n",
    "\n",
    "In problem 1, I told you to use `isinstance` rather than code of the form `type(x)==list`. In the box below, please explain the difference between these two things and one reason why it is often better to use `isinstance`. Your explanation should be up to five sentences long and be written in complete, grammatically correct sentences. Reminder: this is an open internet exam so googling \"why should I use isinstance\" is a perfectly valid strategy if you are not sure."
   ]
  },
  {
   "cell_type": "markdown",
   "metadata": {},
   "source": [
    "Firstly, `type()` returns the type of a variable while `isinstance()` returns a boolean. Secondly, `type()` checks if a variable is of a specific data type while `isinstance()` considers inheritance such that if a variable acts like a data type. It is better to use `isinstance()` over `type()` for two reasons. One of them is that using `isinstance()` is much (about 30 times) faster than comparing `type()` to a specific data type. The other one is that `isinstance()` can not only check if a variable is an instance of a class but also if a class is a subclass of another class, but `type()` can not."
   ]
  },
  {
   "cell_type": "markdown",
   "metadata": {},
   "source": [
    "# Problem 3 - 10 points\n",
    "\n",
    "As you have noticed, Python is quite different from C++. In boxes below, please briefly describe  a) at least two advantages of Python and b) at least two disadvantages. Your solution for each part should be 2 to 6 senteces. Please write in complete, grammatically correct sentences. (Again, if you are not sure what to write, googling is a valid strategy here.)"
   ]
  },
  {
   "cell_type": "markdown",
   "metadata": {},
   "source": [
    "Advantages:\n",
    "1. Python supports Garbage collection, which is a form of automatic memory management, while C++ doesn't support and needs the programmer to use pointers and pay attention to the storage details.\n",
    "2. Python's syntax is clean, straightforward, and similar to human language, whereas C++ has lots of predefined syntaxes and a more complex structure including semicolons and braces.\n",
    "3. Python has a smaller size of code, so Rapid Prototyping is possible. In constrast, Rapid Prototyping is impossible for C++ due to its larger code size."
   ]
  },
  {
   "cell_type": "markdown",
   "metadata": {},
   "source": [
    "Disadvantages:\n",
    "1. Python is slower than C++ since it uses interpreter and needs to determine the data type at run time. In contrast, C++ is a compiled language that translates the code into machine codes before running.\n",
    "2. Python can only be used on certain platforms that support high-level languages, but C++ can be used on almost all platforms including embedded systems."
   ]
  },
  {
   "cell_type": "markdown",
   "metadata": {},
   "source": [
    "### Example of a function calling itself\n",
    "\n",
    "The function below simulates absolute value"
   ]
  },
  {
   "cell_type": "code",
   "execution_count": 8,
   "metadata": {},
   "outputs": [],
   "source": [
    "def f(x):\n",
    "    if x>=0:\n",
    "        return x\n",
    "    else:\n",
    "        return(f(-x))"
   ]
  },
  {
   "cell_type": "code",
   "execution_count": 9,
   "metadata": {},
   "outputs": [
    {
     "name": "stdout",
     "output_type": "stream",
     "text": [
      "8 8\n"
     ]
    }
   ],
   "source": [
    "print(f(8), f(-8))"
   ]
  }
 ],
 "metadata": {
  "kernelspec": {
   "display_name": "Python 3 (ipykernel)",
   "language": "python",
   "name": "python3"
  },
  "language_info": {
   "codemirror_mode": {
    "name": "ipython",
    "version": 3
   },
   "file_extension": ".py",
   "mimetype": "text/x-python",
   "name": "python",
   "nbconvert_exporter": "python",
   "pygments_lexer": "ipython3",
   "version": "3.9.7"
  }
 },
 "nbformat": 4,
 "nbformat_minor": 4
}
